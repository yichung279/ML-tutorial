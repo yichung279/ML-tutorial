{
 "cells": [
  {
   "cell_type": "markdown",
   "metadata": {},
   "source": [
    "# Perceptron Learning Algorithm (PLA) 演算法\n",
    "\n",
    "利用準備好的工具，實作 PLA 演算法，演算法細節可以參考林軒田老師的[機器學習基石](https://www.youtube.com/watch?v=WlpF1Phkv28&list=PLXVfgk9fNX2I7tB6oIINGBmW50rrmFTqf&index=6)影片。\n",
    "\n",
    "# 二維 PLA 展示"
   ]
  },
  {
   "cell_type": "code",
   "execution_count": 72,
   "metadata": {},
   "outputs": [],
   "source": [
    "# 載入準備好的工具\n",
    "import sys\n",
    "sys.path.append('.prepared')\n",
    "import pla as prepared\n",
    "import numpy as np\n"
   ]
  },
  {
   "cell_type": "code",
   "execution_count": 50,
   "metadata": {},
   "outputs": [],
   "source": [
    "# 重置預先準備好的 PLA 示範模型\n",
    "prepared.reset()"
   ]
  },
  {
   "cell_type": "code",
   "execution_count": 4,
   "metadata": {},
   "outputs": [
    {
     "data": {
      "image/png": "[encoded data removed]",
      "text/plain": [
       "<matplotlib.figure.Figure at 0x7f1a047029b0>"
      ]
     },
     "metadata": {},
     "output_type": "display_data"
    }
   ],
   "source": [
    "# 更新該 PLA 模型\n",
    "prepared.update()\n",
    "\n",
    "# 繪製該 PLA 模型\n",
    "prepared.plot()\n",
    "\n",
    "# 執行多次觀察 PLA 模型迭代的過程，收斂後可以執行上面程式區段執行重置模型"
   ]
  },
  {
   "cell_type": "markdown",
   "metadata": {},
   "source": [
    "# 動手做\n",
    "\n",
    "完成下面程式區段的 `pla()`，並用其取代 `prepared.demo()`。注意由上往下尋找預測錯誤的資料，更新之後從下一筆繼續尋找，答案才會跟 `prepared.demo()` 完全一致。"
   ]
  },
  {
   "cell_type": "code",
   "execution_count": 61,
   "metadata": {},
   "outputs": [],
   "source": [
    "def gen_data(file_name):\n",
    "    my_data = np.genfromtxt(file_name, delimiter=' ')\n",
    "    \n",
    "    data= []\n",
    "    for line in my_data:\n",
    "        point = (line[0], line[1], line[2], line[3])\n",
    "        label = line[-1]\n",
    "        data.append((point, label))\n",
    "        \n",
    "    return data"
   ]
  },
  {
   "cell_type": "code",
   "execution_count": 62,
   "metadata": {},
   "outputs": [],
   "source": [
    "def sign(wx):\n",
    "    if wx > 0:\n",
    "        return 1 \n",
    "    elif wx == 0:\n",
    "        return 0\n",
    "    else:\n",
    "        return -1\n",
    "\n",
    "def sigma_dot(a, b):\n",
    "    if len(a) != len(b):\n",
    "        return 0\n",
    "    ab = 0\n",
    "    for i in range(len(a)):\n",
    "        ab += a[i] * b[i]\n",
    "    return ab\n",
    "\n",
    "def h_function(w, x):\n",
    "    return sign(sigma_dot(w, x))\n",
    "\n",
    "def update_w(w, x, y):\n",
    "    for i in range(len(w)):\n",
    "        w[i] += y * x[i]\n",
    "        \n",
    "    return w\n"
   ]
  },
  {
   "cell_type": "code",
   "execution_count": 97,
   "metadata": {},
   "outputs": [],
   "source": [
    "def pla(data):\n",
    "    \n",
    "    \n",
    "    dataset = [((1,) + x   , y) for x, y in data]\n",
    "    # dataset =[((x4, x3, x2, x1, x0), y),\n",
    "    # .         ((x4, x3, x2, x1, x0), y),\n",
    "    # .         ((x4, x3, x2, x1, x0), y),\n",
    "    # .         ((x4, x3, x2, x1, x0), y)]\n",
    "    \n",
    "    w = list(dataset[0][0])\n",
    "    \n",
    "    while True:\n",
    "        no_error = True\n",
    "        for point in dataset:\n",
    "            xn = point[0]\n",
    "            yn = point[1]\n",
    "            if h_function(w, xn) != yn and yn != 0:\n",
    "                w = update_w(w, xn, yn)\n",
    "                no_error = False\n",
    "                # what if w == [0.0, 0.0, 0]:\n",
    "                \n",
    "        if no_error :\n",
    "            break\n",
    "\n",
    "    return w\n"
   ]
  },
  {
   "cell_type": "code",
   "execution_count": 108,
   "metadata": {},
   "outputs": [
    {
     "name": "stdout",
     "output_type": "stream",
     "text": [
      "my answer:\n",
      "[-3.0, 3.0841435999999995, -1.5830809999999997, 2.391305, 4.5287635000000002]\n",
      "TA answer:\n",
      "#45 [-3.          3.08414355 -1.58308104  2.39130508  4.52876345]\n"
     ]
    }
   ],
   "source": [
    "if __name__ == '__main__':\n",
    "    data = gen_data('./pla.dat')\n",
    "    print('my answer:')\n",
    "    pla(data)\n",
    "    print('TA answer:')\n",
    "    prepared.demo()"
   ]
  },
  {
   "cell_type": "code",
   "execution_count": null,
   "metadata": {},
   "outputs": [],
   "source": []
  },
  {
   "cell_type": "code",
   "execution_count": null,
   "metadata": {},
   "outputs": [],
   "source": []
  }
 ],
 "metadata": {
  "kernelspec": {
   "display_name": "Python 3",
   "language": "python",
   "name": "python3"
  },
  "language_info": {
   "codemirror_mode": {
    "name": "ipython",
    "version": 3
   },
   "file_extension": ".py",
   "mimetype": "text/x-python",
   "name": "python",
   "nbconvert_exporter": "python",
   "pygments_lexer": "ipython3",
   "version": "3.5.2"
  }
 },
 "nbformat": 4,
 "nbformat_minor": 2
}
